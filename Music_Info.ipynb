{
 "cells": [
  {
   "cell_type": "code",
   "execution_count": 19,
   "id": "225522a4-8d88-497f-8529-0685a47a4c7f",
   "metadata": {
    "tags": []
   },
   "outputs": [],
   "source": [
    "# Import the modules\n",
    "import numpy as np\n",
    "import pandas as pd\n",
    "from pathlib import Path\n",
    "from sklearn.metrics import confusion_matrix, classification_report, accuracy_score"
   ]
  },
  {
   "cell_type": "code",
   "execution_count": 25,
   "id": "2cf5b02c-1c62-4f08-9020-9a1d301a5e87",
   "metadata": {
    "tags": []
   },
   "outputs": [
    {
     "data": {
      "text/html": [
       "<div>\n",
       "<style scoped>\n",
       "    .dataframe tbody tr th:only-of-type {\n",
       "        vertical-align: middle;\n",
       "    }\n",
       "\n",
       "    .dataframe tbody tr th {\n",
       "        vertical-align: top;\n",
       "    }\n",
       "\n",
       "    .dataframe thead th {\n",
       "        text-align: right;\n",
       "    }\n",
       "</style>\n",
       "<table border=\"1\" class=\"dataframe\">\n",
       "  <thead>\n",
       "    <tr style=\"text-align: right;\">\n",
       "      <th></th>\n",
       "      <th>popularity</th>\n",
       "      <th>duration_ms</th>\n",
       "      <th>explicit</th>\n",
       "      <th>danceability</th>\n",
       "      <th>energy</th>\n",
       "      <th>key</th>\n",
       "      <th>loudness</th>\n",
       "      <th>speechiness</th>\n",
       "      <th>acousticness</th>\n",
       "      <th>instrumentalness</th>\n",
       "      <th>liveness</th>\n",
       "      <th>valence</th>\n",
       "      <th>tempo</th>\n",
       "      <th>time_signature</th>\n",
       "      <th>track_genre</th>\n",
       "    </tr>\n",
       "  </thead>\n",
       "  <tbody>\n",
       "    <tr>\n",
       "      <th>6390</th>\n",
       "      <td>19</td>\n",
       "      <td>243626</td>\n",
       "      <td>True</td>\n",
       "      <td>0.0658</td>\n",
       "      <td>0.99300</td>\n",
       "      <td>9</td>\n",
       "      <td>-2.484</td>\n",
       "      <td>0.1640</td>\n",
       "      <td>0.000697</td>\n",
       "      <td>0.2170</td>\n",
       "      <td>0.317</td>\n",
       "      <td>0.1070</td>\n",
       "      <td>199.986</td>\n",
       "      <td>4</td>\n",
       "      <td>black-metal</td>\n",
       "    </tr>\n",
       "    <tr>\n",
       "      <th>42527</th>\n",
       "      <td>13</td>\n",
       "      <td>58827</td>\n",
       "      <td>False</td>\n",
       "      <td>0.1690</td>\n",
       "      <td>0.89400</td>\n",
       "      <td>7</td>\n",
       "      <td>-2.267</td>\n",
       "      <td>0.1270</td>\n",
       "      <td>0.085400</td>\n",
       "      <td>0.8120</td>\n",
       "      <td>0.321</td>\n",
       "      <td>0.0309</td>\n",
       "      <td>116.244</td>\n",
       "      <td>4</td>\n",
       "      <td>grindcore</td>\n",
       "    </tr>\n",
       "    <tr>\n",
       "      <th>4445</th>\n",
       "      <td>56</td>\n",
       "      <td>234655</td>\n",
       "      <td>False</td>\n",
       "      <td>0.3640</td>\n",
       "      <td>0.00222</td>\n",
       "      <td>10</td>\n",
       "      <td>-35.497</td>\n",
       "      <td>0.0479</td>\n",
       "      <td>0.995000</td>\n",
       "      <td>0.9510</td>\n",
       "      <td>0.104</td>\n",
       "      <td>0.2990</td>\n",
       "      <td>135.805</td>\n",
       "      <td>3</td>\n",
       "      <td>ambient</td>\n",
       "    </tr>\n",
       "    <tr>\n",
       "      <th>62040</th>\n",
       "      <td>0</td>\n",
       "      <td>228234</td>\n",
       "      <td>False</td>\n",
       "      <td>0.5250</td>\n",
       "      <td>0.20500</td>\n",
       "      <td>0</td>\n",
       "      <td>-12.519</td>\n",
       "      <td>0.0457</td>\n",
       "      <td>0.840000</td>\n",
       "      <td>0.0213</td>\n",
       "      <td>0.114</td>\n",
       "      <td>0.2070</td>\n",
       "      <td>183.468</td>\n",
       "      <td>4</td>\n",
       "      <td>j-pop</td>\n",
       "    </tr>\n",
       "    <tr>\n",
       "      <th>47522</th>\n",
       "      <td>64</td>\n",
       "      <td>254133</td>\n",
       "      <td>False</td>\n",
       "      <td>0.4030</td>\n",
       "      <td>0.70900</td>\n",
       "      <td>9</td>\n",
       "      <td>-9.366</td>\n",
       "      <td>0.0885</td>\n",
       "      <td>0.074600</td>\n",
       "      <td>0.4940</td>\n",
       "      <td>0.132</td>\n",
       "      <td>0.6540</td>\n",
       "      <td>97.161</td>\n",
       "      <td>4</td>\n",
       "      <td>hard-rock</td>\n",
       "    </tr>\n",
       "  </tbody>\n",
       "</table>\n",
       "</div>"
      ],
      "text/plain": [
       "       popularity  duration_ms  explicit  danceability   energy  key  \\\n",
       "6390           19       243626      True        0.0658  0.99300    9   \n",
       "42527          13        58827     False        0.1690  0.89400    7   \n",
       "4445           56       234655     False        0.3640  0.00222   10   \n",
       "62040           0       228234     False        0.5250  0.20500    0   \n",
       "47522          64       254133     False        0.4030  0.70900    9   \n",
       "\n",
       "       loudness  speechiness  acousticness  instrumentalness  liveness  \\\n",
       "6390     -2.484       0.1640      0.000697            0.2170     0.317   \n",
       "42527    -2.267       0.1270      0.085400            0.8120     0.321   \n",
       "4445    -35.497       0.0479      0.995000            0.9510     0.104   \n",
       "62040   -12.519       0.0457      0.840000            0.0213     0.114   \n",
       "47522    -9.366       0.0885      0.074600            0.4940     0.132   \n",
       "\n",
       "       valence    tempo  time_signature  track_genre  \n",
       "6390    0.1070  199.986               4  black-metal  \n",
       "42527   0.0309  116.244               4    grindcore  \n",
       "4445    0.2990  135.805               3      ambient  \n",
       "62040   0.2070  183.468               4        j-pop  \n",
       "47522   0.6540   97.161               4    hard-rock  "
      ]
     },
     "execution_count": 25,
     "metadata": {},
     "output_type": "execute_result"
    }
   ],
   "source": [
    "import pandas as pd\n",
    "from sklearn.preprocessing import StandardScaler\n",
    "\n",
    "# Load the dataset into a DataFrame and select 500 rows at random\n",
    "df = pd.read_csv('dataset.csv').sample(n=500)\n",
    "\n",
    "# Drop irrelevant columns\n",
    "df_cleaned = df.drop(columns=['Unnamed: 0', 'track_id', 'artists', 'album_name', 'track_name', 'mode'])\n",
    "\n",
    "# Handle missing values: drop rows with missing values\n",
    "df_cleaned = df_cleaned.dropna()\n",
    "\n",
    "# Remove duplicates\n",
    "df_cleaned = df_cleaned.drop_duplicates()\n",
    "\n",
    "# Convert 'danceability' to binary labels (0 for not danceable, 1 for danceable)\n",
    "#df_cleaned['danceability_binary'] = df_cleaned['danceability'].apply(lambda x: 1 if x > 0.5 else 0)\n",
    "\n",
    "# Select relevant columns\n",
    "######features = ['duration_ms', 'popularity', 'energy', 'loudness', 'speechiness', 'acousticness', 'instrumentalness', 'liveness', 'valence', 'tempo', 'explicit']\n",
    "#features = ['duration_ms', 'popularity', 'energy', 'loudness', 'speechiness', 'acousticness', 'instrumentalness', 'liveness', 'valence', 'tempo', 'explicit']\n",
    "features = ['liveness']\n",
    "X = df_cleaned[features].copy()\n",
    "y = df_cleaned['danceability']\n",
    "\n",
    "\n",
    "# Normalize and standardize columns\n",
    "scaler = StandardScaler()\n",
    "X_scaled = scaler.fit_transform(X)\n",
    "\n",
    "\n",
    "# Display cleaned DataFrame info\n",
    "df_cleaned.head()\n",
    "\n"
   ]
  },
  {
   "cell_type": "code",
   "execution_count": 26,
   "id": "4f39ca38-959c-4db8-b9b7-a98380f73fc0",
   "metadata": {
    "tags": []
   },
   "outputs": [
    {
     "name": "stdout",
     "output_type": "stream",
     "text": [
      "<class 'pandas.core.frame.DataFrame'>\n",
      "Index: 500 entries, 6390 to 109167\n",
      "Data columns (total 15 columns):\n",
      " #   Column            Non-Null Count  Dtype  \n",
      "---  ------            --------------  -----  \n",
      " 0   popularity        500 non-null    int64  \n",
      " 1   duration_ms       500 non-null    int64  \n",
      " 2   explicit          500 non-null    bool   \n",
      " 3   danceability      500 non-null    float64\n",
      " 4   energy            500 non-null    float64\n",
      " 5   key               500 non-null    int64  \n",
      " 6   loudness          500 non-null    float64\n",
      " 7   speechiness       500 non-null    float64\n",
      " 8   acousticness      500 non-null    float64\n",
      " 9   instrumentalness  500 non-null    float64\n",
      " 10  liveness          500 non-null    float64\n",
      " 11  valence           500 non-null    float64\n",
      " 12  tempo             500 non-null    float64\n",
      " 13  time_signature    500 non-null    int64  \n",
      " 14  track_genre       500 non-null    object \n",
      "dtypes: bool(1), float64(9), int64(4), object(1)\n",
      "memory usage: 59.1+ KB\n",
      "None\n"
     ]
    }
   ],
   "source": [
    "print(df_cleaned.info())"
   ]
  },
  {
   "cell_type": "code",
   "execution_count": 29,
   "id": "31af812d-32bd-44f8-a741-5452545c1202",
   "metadata": {
    "tags": []
   },
   "outputs": [
    {
     "name": "stdout",
     "output_type": "stream",
     "text": [
      "        liveness\n",
      "6390      0.3170\n",
      "42527     0.3210\n",
      "4445      0.1040\n",
      "62040     0.1140\n",
      "47522     0.1320\n",
      "69423     0.0688\n",
      "104314    0.6940\n",
      "107614    0.3160\n",
      "77148     0.9250\n",
      "71310     0.2190\n",
      "<class 'pandas.core.frame.DataFrame'>\n",
      "Index: 500 entries, 6390 to 109167\n",
      "Data columns (total 1 columns):\n",
      " #   Column    Non-Null Count  Dtype  \n",
      "---  ------    --------------  -----  \n",
      " 0   liveness  500 non-null    float64\n",
      "dtypes: float64(1)\n",
      "memory usage: 7.8 KB\n",
      "None\n",
      "         liveness\n",
      "count  500.000000\n",
      "mean     0.220591\n",
      "std      0.197453\n",
      "min      0.025100\n",
      "25%      0.095950\n",
      "50%      0.136000\n",
      "75%      0.289500\n",
      "max      0.987000\n",
      "Index(['liveness'], dtype='object')\n"
     ]
    }
   ],
   "source": [
    "# Review the X variable DataFrame\n",
    "print(X.head(10))\n",
    "print(X.info())\n",
    "print(X.describe())\n",
    "print(X.columns)"
   ]
  },
  {
   "cell_type": "code",
   "execution_count": 31,
   "id": "0c63a82f-35a1-4b89-9a84-93df7a45175f",
   "metadata": {
    "tags": []
   },
   "outputs": [],
   "source": [
    "# Split the data into training and testing datasets by using\n",
    "\n",
    "# Import the train_test_learn module\n",
    "from sklearn.model_selection import train_test_split\n",
    "\n",
    "# Split the data using train_test_split\n",
    "# Assign a random_state of 1 to the function\n",
    "X_train, X_test, y_train, y_test = train_test_split(X_scaled, \n",
    "                                                    y, \n",
    "                                                    random_state=1)"
   ]
  },
  {
   "cell_type": "code",
   "execution_count": 33,
   "id": "85059797-79ba-4020-809b-854dd525e2a2",
   "metadata": {
    "tags": []
   },
   "outputs": [
    {
     "data": {
      "text/html": [
       "<style>#sk-container-id-2 {color: black;background-color: white;}#sk-container-id-2 pre{padding: 0;}#sk-container-id-2 div.sk-toggleable {background-color: white;}#sk-container-id-2 label.sk-toggleable__label {cursor: pointer;display: block;width: 100%;margin-bottom: 0;padding: 0.3em;box-sizing: border-box;text-align: center;}#sk-container-id-2 label.sk-toggleable__label-arrow:before {content: \"▸\";float: left;margin-right: 0.25em;color: #696969;}#sk-container-id-2 label.sk-toggleable__label-arrow:hover:before {color: black;}#sk-container-id-2 div.sk-estimator:hover label.sk-toggleable__label-arrow:before {color: black;}#sk-container-id-2 div.sk-toggleable__content {max-height: 0;max-width: 0;overflow: hidden;text-align: left;background-color: #f0f8ff;}#sk-container-id-2 div.sk-toggleable__content pre {margin: 0.2em;color: black;border-radius: 0.25em;background-color: #f0f8ff;}#sk-container-id-2 input.sk-toggleable__control:checked~div.sk-toggleable__content {max-height: 200px;max-width: 100%;overflow: auto;}#sk-container-id-2 input.sk-toggleable__control:checked~label.sk-toggleable__label-arrow:before {content: \"▾\";}#sk-container-id-2 div.sk-estimator input.sk-toggleable__control:checked~label.sk-toggleable__label {background-color: #d4ebff;}#sk-container-id-2 div.sk-label input.sk-toggleable__control:checked~label.sk-toggleable__label {background-color: #d4ebff;}#sk-container-id-2 input.sk-hidden--visually {border: 0;clip: rect(1px 1px 1px 1px);clip: rect(1px, 1px, 1px, 1px);height: 1px;margin: -1px;overflow: hidden;padding: 0;position: absolute;width: 1px;}#sk-container-id-2 div.sk-estimator {font-family: monospace;background-color: #f0f8ff;border: 1px dotted black;border-radius: 0.25em;box-sizing: border-box;margin-bottom: 0.5em;}#sk-container-id-2 div.sk-estimator:hover {background-color: #d4ebff;}#sk-container-id-2 div.sk-parallel-item::after {content: \"\";width: 100%;border-bottom: 1px solid gray;flex-grow: 1;}#sk-container-id-2 div.sk-label:hover label.sk-toggleable__label {background-color: #d4ebff;}#sk-container-id-2 div.sk-serial::before {content: \"\";position: absolute;border-left: 1px solid gray;box-sizing: border-box;top: 0;bottom: 0;left: 50%;z-index: 0;}#sk-container-id-2 div.sk-serial {display: flex;flex-direction: column;align-items: center;background-color: white;padding-right: 0.2em;padding-left: 0.2em;position: relative;}#sk-container-id-2 div.sk-item {position: relative;z-index: 1;}#sk-container-id-2 div.sk-parallel {display: flex;align-items: stretch;justify-content: center;background-color: white;position: relative;}#sk-container-id-2 div.sk-item::before, #sk-container-id-2 div.sk-parallel-item::before {content: \"\";position: absolute;border-left: 1px solid gray;box-sizing: border-box;top: 0;bottom: 0;left: 50%;z-index: -1;}#sk-container-id-2 div.sk-parallel-item {display: flex;flex-direction: column;z-index: 1;position: relative;background-color: white;}#sk-container-id-2 div.sk-parallel-item:first-child::after {align-self: flex-end;width: 50%;}#sk-container-id-2 div.sk-parallel-item:last-child::after {align-self: flex-start;width: 50%;}#sk-container-id-2 div.sk-parallel-item:only-child::after {width: 0;}#sk-container-id-2 div.sk-dashed-wrapped {border: 1px dashed gray;margin: 0 0.4em 0.5em 0.4em;box-sizing: border-box;padding-bottom: 0.4em;background-color: white;}#sk-container-id-2 div.sk-label label {font-family: monospace;font-weight: bold;display: inline-block;line-height: 1.2em;}#sk-container-id-2 div.sk-label-container {text-align: center;}#sk-container-id-2 div.sk-container {/* jupyter's `normalize.less` sets `[hidden] { display: none; }` but bootstrap.min.css set `[hidden] { display: none !important; }` so we also need the `!important` here to be able to override the default hidden behavior on the sphinx rendered scikit-learn.org. See: https://github.com/scikit-learn/scikit-learn/issues/21755 */display: inline-block !important;position: relative;}#sk-container-id-2 div.sk-text-repr-fallback {display: none;}</style><div id=\"sk-container-id-2\" class=\"sk-top-container\"><div class=\"sk-text-repr-fallback\"><pre>LinearRegression(n_jobs=-1)</pre><b>In a Jupyter environment, please rerun this cell to show the HTML representation or trust the notebook. <br />On GitHub, the HTML representation is unable to render, please try loading this page with nbviewer.org.</b></div><div class=\"sk-container\" hidden><div class=\"sk-item\"><div class=\"sk-estimator sk-toggleable\"><input class=\"sk-toggleable__control sk-hidden--visually\" id=\"sk-estimator-id-2\" type=\"checkbox\" checked><label for=\"sk-estimator-id-2\" class=\"sk-toggleable__label sk-toggleable__label-arrow\">LinearRegression</label><div class=\"sk-toggleable__content\"><pre>LinearRegression(n_jobs=-1)</pre></div></div></div></div></div>"
      ],
      "text/plain": [
       "LinearRegression(n_jobs=-1)"
      ]
     },
     "execution_count": 33,
     "metadata": {},
     "output_type": "execute_result"
    }
   ],
   "source": [
    "# Import the LinearRegression module from SKLearn\n",
    "from sklearn.linear_model import LinearRegression\n",
    "\n",
    "# Instantiate the Linear Regression model\n",
    "# Assign a random_state parameter of 1 to the model (not necessary, but for reproducibility)\n",
    "lin_reg = LinearRegression(n_jobs=-1)  # n_jobs=-1 uses all available CPU cores\n",
    "\n",
    "# Fit the model using training data\n",
    "lin_reg.fit(X_train, y_train)"
   ]
  },
  {
   "cell_type": "code",
   "execution_count": 35,
   "id": "e68901ef-e71e-43b2-906c-b1f659656db7",
   "metadata": {
    "tags": []
   },
   "outputs": [],
   "source": [
    "# Make a prediction using the testing data\n",
    "y_predict = lin_reg.predict(X_test)"
   ]
  },
  {
   "cell_type": "code",
   "execution_count": 37,
   "id": "c8e13e4d-e616-4957-8420-550af11f744c",
   "metadata": {
    "tags": []
   },
   "outputs": [
    {
     "data": {
      "image/png": "[encoded data removed]",
      "text/plain": [
       "<Figure size 640x480 with 1 Axes>"
      ]
     },
     "metadata": {},
     "output_type": "display_data"
    }
   ],
   "source": [
    "import matplotlib.pyplot as plt\n",
    "from sklearn.linear_model import LinearRegression\n",
    "\n",
    "# Create a linear regression model\n",
    "lr_model = LinearRegression()\n",
    "\n",
    "# Fit the model using the training data\n",
    "lr_model.fit(X, y)\n",
    "\n",
    "# Get the coefficients (slope and intercept)\n",
    "slope = lr_model.coef_[0]\n",
    "intercept = lr_model.intercept_\n",
    "\n",
    "# Plot the data points\n",
    "plt.scatter(X, y)\n",
    "\n",
    "# Plot the line of best fit\n",
    "plt.plot(X, slope * X + intercept, color='red')\n",
    "\n",
    "# Set labels and title\n",
    "plt.xlabel('acousticness')\n",
    "plt.ylabel('Danceability')\n",
    "plt.title('Line of Best Fit')\n",
    "\n",
    "# Show the plot\n",
    "plt.show()"
   ]
  },
  {
   "cell_type": "code",
   "execution_count": 39,
   "id": "614a49a4-387e-4edd-823c-fa93850bc135",
   "metadata": {},
   "outputs": [],
   "source": [
    "###### features = ['duration_ms', 'popularity', 'energy', 'loudness', 'speechiness', 'acousticness', 'instrumentalness', 'liveness', 'valence', 'tempo', 'explicit']"
   ]
  },
  {
   "cell_type": "code",
   "execution_count": 41,
   "id": "1e99527a-6b05-42b7-b42d-eeaf0734ca27",
   "metadata": {
    "tags": []
   },
   "outputs": [
    {
     "name": "stdout",
     "output_type": "stream",
     "text": [
      "The r2 is -0.03859404147230272.\n",
      "The mean squared error is 0.024777633755945463.\n",
      "The root mean squared error is 0.15740912856612052.\n",
      "The standard deviation is 0.17616614355533824.\n"
     ]
    }
   ],
   "source": [
    "# Compute metrics for the linear regression model:  r2, mse, rmse, std\n",
    "from sklearn.metrics import mean_squared_error, mean_absolute_error, r2_score\n",
    "r2 = r2_score(y_test, y_predict)\n",
    "mse = mean_squared_error(y_test, y_predict)\n",
    "rmse = np.sqrt(mse)\n",
    "std = np.std(y)\n",
    "\n",
    "# Print relevant metrics.\n",
    "print(f\"The r2 is {r2}.\")\n",
    "print(f\"The mean squared error is {mse}.\")\n",
    "print(f\"The root mean squared error is {rmse}.\")\n",
    "print(f\"The standard deviation is {std}.\")\n"
   ]
  },
  {
   "cell_type": "code",
   "execution_count": 43,
   "id": "014c1b03-dea8-44a4-9606-ea0484c7f7a4",
   "metadata": {
    "tags": []
   },
   "outputs": [],
   "source": [
    "#### Hannah###\n",
    "##Edit the x variables if needed to make a better fit if r^2 < 0.8 \n",
    "\n",
    "##Could also use Random Forest Model or Logistic Regression, nut may need to change Danacability to a 0 or 1 in DF to use these models###"
   ]
  },
  {
   "cell_type": "code",
   "execution_count": null,
   "id": "ba661e57-0f6b-445f-84b9-102541641b84",
   "metadata": {},
   "outputs": [],
   "source": [
    "##Sequel Stuff once uploaded to DataBricks\n",
    "\n",
    "## Yalena"
   ]
  }
 ],
 "metadata": {
  "kernelspec": {
   "display_name": "Python 3 (ipykernel)",
   "language": "python",
   "name": "python3"
  },
  "language_info": {
   "codemirror_mode": {
    "name": "ipython",
    "version": 3
   },
   "file_extension": ".py",
   "mimetype": "text/x-python",
   "name": "python",
   "nbconvert_exporter": "python",
   "pygments_lexer": "ipython3",
   "version": "3.11.7"
  }
 },
 "nbformat": 4,
 "nbformat_minor": 5
}
