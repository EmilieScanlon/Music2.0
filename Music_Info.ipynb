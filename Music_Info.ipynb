{
 "cells": [
  {
   "cell_type": "code",
   "execution_count": 123,
   "id": "225522a4-8d88-497f-8529-0685a47a4c7f",
   "metadata": {
    "tags": []
   },
   "outputs": [],
   "source": [
    "# Import the modules\n",
    "import numpy as np\n",
    "import pandas as pd\n",
    "from pathlib import Path\n",
    "from sklearn.metrics import confusion_matrix, classification_report, accuracy_score"
   ]
  },
  {
   "cell_type": "code",
   "execution_count": 362,
   "id": "2cf5b02c-1c62-4f08-9020-9a1d301a5e87",
   "metadata": {
    "tags": []
   },
   "outputs": [],
   "source": [
    "import pandas as pd\n",
    "from sklearn.preprocessing import StandardScaler\n",
    "\n",
    "# Load the dataset into a DataFrame and select 500 rows at random\n",
    "df = pd.read_csv('dataset.csv').sample(n=5000)\n",
    "\n",
    "# Drop irrelevant columns\n",
    "df_cleaned = df.drop(columns=['Unnamed: 0', 'track_id', 'artists', 'album_name', 'track_name', 'mode'])\n",
    "\n",
    "# Handle missing values: drop rows with missing values\n",
    "df_cleaned = df_cleaned.dropna()\n",
    "\n",
    "# Remove duplicates\n",
    "df_cleaned = df_cleaned.drop_duplicates()\n",
    "\n",
    "# Convert 'danceability' to binary labels (0 for not danceable, 1 for danceable)\n",
    "df_cleaned['danceability_binary'] = df_cleaned['danceability'].apply(lambda x: 1 if x > 0.5 else 0)\n",
    "\n",
    "# Select relevant columns\n",
    "######features = ['duration_ms', 'popularity', 'energy', 'loudness', 'speechiness', 'acousticness', 'instrumentalness', 'liveness', 'valence', 'tempo', 'explicit']\n",
    "features = ['energy', 'loudness', 'acousticness', 'valence']"
   ]
  },
  {
   "cell_type": "code",
   "execution_count": 363,
   "id": "bd82d398-fe3e-49eb-8466-26bf4ac605a8",
   "metadata": {
    "tags": []
   },
   "outputs": [
    {
     "data": {
      "text/html": [
       "<div>\n",
       "<style scoped>\n",
       "    .dataframe tbody tr th:only-of-type {\n",
       "        vertical-align: middle;\n",
       "    }\n",
       "\n",
       "    .dataframe tbody tr th {\n",
       "        vertical-align: top;\n",
       "    }\n",
       "\n",
       "    .dataframe thead th {\n",
       "        text-align: right;\n",
       "    }\n",
       "</style>\n",
       "<table border=\"1\" class=\"dataframe\">\n",
       "  <thead>\n",
       "    <tr style=\"text-align: right;\">\n",
       "      <th></th>\n",
       "      <th>popularity</th>\n",
       "      <th>duration_ms</th>\n",
       "      <th>explicit</th>\n",
       "      <th>danceability</th>\n",
       "      <th>energy</th>\n",
       "      <th>key</th>\n",
       "      <th>loudness</th>\n",
       "      <th>speechiness</th>\n",
       "      <th>acousticness</th>\n",
       "      <th>instrumentalness</th>\n",
       "      <th>liveness</th>\n",
       "      <th>valence</th>\n",
       "      <th>tempo</th>\n",
       "      <th>time_signature</th>\n",
       "      <th>track_genre</th>\n",
       "      <th>danceability_binary</th>\n",
       "    </tr>\n",
       "  </thead>\n",
       "  <tbody>\n",
       "    <tr>\n",
       "      <th>47309</th>\n",
       "      <td>65</td>\n",
       "      <td>230720</td>\n",
       "      <td>False</td>\n",
       "      <td>0.651</td>\n",
       "      <td>0.665</td>\n",
       "      <td>9</td>\n",
       "      <td>-7.430</td>\n",
       "      <td>0.0269</td>\n",
       "      <td>0.2210</td>\n",
       "      <td>0.000008</td>\n",
       "      <td>0.0403</td>\n",
       "      <td>0.647</td>\n",
       "      <td>97.996</td>\n",
       "      <td>4</td>\n",
       "      <td>hard-rock</td>\n",
       "      <td>1</td>\n",
       "    </tr>\n",
       "    <tr>\n",
       "      <th>18711</th>\n",
       "      <td>40</td>\n",
       "      <td>184266</td>\n",
       "      <td>True</td>\n",
       "      <td>0.817</td>\n",
       "      <td>0.582</td>\n",
       "      <td>5</td>\n",
       "      <td>-9.197</td>\n",
       "      <td>0.4210</td>\n",
       "      <td>0.7890</td>\n",
       "      <td>0.000020</td>\n",
       "      <td>0.1130</td>\n",
       "      <td>0.501</td>\n",
       "      <td>131.984</td>\n",
       "      <td>4</td>\n",
       "      <td>comedy</td>\n",
       "      <td>1</td>\n",
       "    </tr>\n",
       "    <tr>\n",
       "      <th>32741</th>\n",
       "      <td>0</td>\n",
       "      <td>402528</td>\n",
       "      <td>False</td>\n",
       "      <td>0.558</td>\n",
       "      <td>0.633</td>\n",
       "      <td>9</td>\n",
       "      <td>-9.875</td>\n",
       "      <td>0.0551</td>\n",
       "      <td>0.0462</td>\n",
       "      <td>0.862000</td>\n",
       "      <td>0.0964</td>\n",
       "      <td>0.425</td>\n",
       "      <td>123.963</td>\n",
       "      <td>4</td>\n",
       "      <td>electronic</td>\n",
       "      <td>1</td>\n",
       "    </tr>\n",
       "    <tr>\n",
       "      <th>2105</th>\n",
       "      <td>82</td>\n",
       "      <td>329733</td>\n",
       "      <td>False</td>\n",
       "      <td>0.592</td>\n",
       "      <td>0.767</td>\n",
       "      <td>9</td>\n",
       "      <td>-2.788</td>\n",
       "      <td>0.0270</td>\n",
       "      <td>0.0021</td>\n",
       "      <td>0.001650</td>\n",
       "      <td>0.1270</td>\n",
       "      <td>0.328</td>\n",
       "      <td>96.483</td>\n",
       "      <td>4</td>\n",
       "      <td>alt-rock</td>\n",
       "      <td>1</td>\n",
       "    </tr>\n",
       "    <tr>\n",
       "      <th>12679</th>\n",
       "      <td>27</td>\n",
       "      <td>120255</td>\n",
       "      <td>False</td>\n",
       "      <td>0.425</td>\n",
       "      <td>0.237</td>\n",
       "      <td>7</td>\n",
       "      <td>-11.400</td>\n",
       "      <td>0.0533</td>\n",
       "      <td>0.7850</td>\n",
       "      <td>0.000000</td>\n",
       "      <td>0.0710</td>\n",
       "      <td>0.543</td>\n",
       "      <td>73.196</td>\n",
       "      <td>3</td>\n",
       "      <td>cantopop</td>\n",
       "      <td>0</td>\n",
       "    </tr>\n",
       "  </tbody>\n",
       "</table>\n",
       "</div>"
      ],
      "text/plain": [
       "       popularity  duration_ms  explicit  danceability  energy  key  loudness  \\\n",
       "47309          65       230720     False         0.651   0.665    9    -7.430   \n",
       "18711          40       184266      True         0.817   0.582    5    -9.197   \n",
       "32741           0       402528     False         0.558   0.633    9    -9.875   \n",
       "2105           82       329733     False         0.592   0.767    9    -2.788   \n",
       "12679          27       120255     False         0.425   0.237    7   -11.400   \n",
       "\n",
       "       speechiness  acousticness  instrumentalness  liveness  valence  \\\n",
       "47309       0.0269        0.2210          0.000008    0.0403    0.647   \n",
       "18711       0.4210        0.7890          0.000020    0.1130    0.501   \n",
       "32741       0.0551        0.0462          0.862000    0.0964    0.425   \n",
       "2105        0.0270        0.0021          0.001650    0.1270    0.328   \n",
       "12679       0.0533        0.7850          0.000000    0.0710    0.543   \n",
       "\n",
       "         tempo  time_signature track_genre  danceability_binary  \n",
       "47309   97.996               4   hard-rock                    1  \n",
       "18711  131.984               4      comedy                    1  \n",
       "32741  123.963               4  electronic                    1  \n",
       "2105    96.483               4    alt-rock                    1  \n",
       "12679   73.196               3    cantopop                    0  "
      ]
     },
     "execution_count": 363,
     "metadata": {},
     "output_type": "execute_result"
    }
   ],
   "source": [
    "X = df_cleaned[features].copy()\n",
    "y = df_cleaned['danceability']\n",
    "\n",
    "\n",
    "# Normalize and standardize columns\n",
    "scaler = StandardScaler()\n",
    "X_scaled = scaler.fit_transform(X)\n",
    "\n",
    "\n",
    "# Display cleaned DataFrame info\n",
    "df_cleaned.head()\n"
   ]
  },
  {
   "cell_type": "code",
   "execution_count": 364,
   "id": "4f39ca38-959c-4db8-b9b7-a98380f73fc0",
   "metadata": {
    "tags": []
   },
   "outputs": [
    {
     "name": "stdout",
     "output_type": "stream",
     "text": [
      "<class 'pandas.core.frame.DataFrame'>\n",
      "Index: 4962 entries, 47309 to 93271\n",
      "Data columns (total 16 columns):\n",
      " #   Column               Non-Null Count  Dtype  \n",
      "---  ------               --------------  -----  \n",
      " 0   popularity           4962 non-null   int64  \n",
      " 1   duration_ms          4962 non-null   int64  \n",
      " 2   explicit             4962 non-null   bool   \n",
      " 3   danceability         4962 non-null   float64\n",
      " 4   energy               4962 non-null   float64\n",
      " 5   key                  4962 non-null   int64  \n",
      " 6   loudness             4962 non-null   float64\n",
      " 7   speechiness          4962 non-null   float64\n",
      " 8   acousticness         4962 non-null   float64\n",
      " 9   instrumentalness     4962 non-null   float64\n",
      " 10  liveness             4962 non-null   float64\n",
      " 11  valence              4962 non-null   float64\n",
      " 12  tempo                4962 non-null   float64\n",
      " 13  time_signature       4962 non-null   int64  \n",
      " 14  track_genre          4962 non-null   object \n",
      " 15  danceability_binary  4962 non-null   int64  \n",
      "dtypes: bool(1), float64(9), int64(5), object(1)\n",
      "memory usage: 625.1+ KB\n",
      "None\n"
     ]
    }
   ],
   "source": [
    "print(df_cleaned.info())"
   ]
  },
  {
   "cell_type": "code",
   "execution_count": 368,
   "id": "31af812d-32bd-44f8-a741-5452545c1202",
   "metadata": {
    "tags": []
   },
   "outputs": [
    {
     "name": "stdout",
     "output_type": "stream",
     "text": [
      "        energy  loudness  acousticness  valence\n",
      "47309    0.665    -7.430       0.22100    0.647\n",
      "18711    0.582    -9.197       0.78900    0.501\n",
      "32741    0.633    -9.875       0.04620    0.425\n",
      "2105     0.767    -2.788       0.00210    0.328\n",
      "12679    0.237   -11.400       0.78500    0.543\n",
      "109016   0.762    -6.197       0.00795    0.389\n",
      "81306    0.690    -7.811       0.00909    0.429\n",
      "65630    0.858    -2.226       0.10100    0.637\n",
      "27957    0.912    -5.271       0.00320    0.261\n",
      "65856    0.804    -2.187       0.41100    0.791\n",
      "<class 'pandas.core.frame.DataFrame'>\n",
      "Index: 4962 entries, 47309 to 93271\n",
      "Data columns (total 4 columns):\n",
      " #   Column        Non-Null Count  Dtype  \n",
      "---  ------        --------------  -----  \n",
      " 0   energy        4962 non-null   float64\n",
      " 1   loudness      4962 non-null   float64\n",
      " 2   acousticness  4962 non-null   float64\n",
      " 3   valence       4962 non-null   float64\n",
      "dtypes: float64(4)\n",
      "memory usage: 193.8 KB\n",
      "None\n",
      "            energy     loudness  acousticness      valence\n",
      "count  4962.000000  4962.000000   4962.000000  4962.000000\n",
      "mean      0.641815    -8.292142      0.314772     0.477458\n",
      "std       0.254942     5.152266      0.337153     0.258294\n",
      "min       0.000020   -43.046000      0.000001     0.000000\n",
      "25%       0.469250   -10.057000      0.015500     0.262000\n",
      "50%       0.689500    -6.960500      0.160000     0.472000\n",
      "75%       0.857000    -4.917000      0.601000     0.688000\n",
      "max       1.000000     1.023000      0.996000     0.991000\n",
      "Index(['energy', 'loudness', 'acousticness', 'valence'], dtype='object')\n"
     ]
    }
   ],
   "source": [
    "# Review the X variable DataFrame\n",
    "print(X.head(10))\n",
    "print(X.info())\n",
    "print(X.describe())\n",
    "print(X.columns)"
   ]
  },
  {
   "cell_type": "code",
   "execution_count": 370,
   "id": "0c63a82f-35a1-4b89-9a84-93df7a45175f",
   "metadata": {
    "tags": []
   },
   "outputs": [],
   "source": [
    "# Split the data into training and testing datasets by using\n",
    "\n",
    "# Import the train_test_learn module\n",
    "from sklearn.model_selection import train_test_split\n",
    "\n",
    "# Split the data using train_test_split\n",
    "# Assign a random_state of 1 to the function\n",
    "X_train, X_test, y_train, y_test = train_test_split(X_scaled, \n",
    "                                                    y, \n",
    "                                                    random_state=1)"
   ]
  },
  {
   "cell_type": "markdown",
   "id": "1b1bb155-6255-4965-8559-924bca1d3348",
   "metadata": {},
   "source": [
    "Linear Regression"
   ]
  },
  {
   "cell_type": "code",
   "execution_count": 373,
   "id": "85059797-79ba-4020-809b-854dd525e2a2",
   "metadata": {
    "tags": []
   },
   "outputs": [
    {
     "data": {
      "text/html": [
       "<style>#sk-container-id-16 {color: black;background-color: white;}#sk-container-id-16 pre{padding: 0;}#sk-container-id-16 div.sk-toggleable {background-color: white;}#sk-container-id-16 label.sk-toggleable__label {cursor: pointer;display: block;width: 100%;margin-bottom: 0;padding: 0.3em;box-sizing: border-box;text-align: center;}#sk-container-id-16 label.sk-toggleable__label-arrow:before {content: \"▸\";float: left;margin-right: 0.25em;color: #696969;}#sk-container-id-16 label.sk-toggleable__label-arrow:hover:before {color: black;}#sk-container-id-16 div.sk-estimator:hover label.sk-toggleable__label-arrow:before {color: black;}#sk-container-id-16 div.sk-toggleable__content {max-height: 0;max-width: 0;overflow: hidden;text-align: left;background-color: #f0f8ff;}#sk-container-id-16 div.sk-toggleable__content pre {margin: 0.2em;color: black;border-radius: 0.25em;background-color: #f0f8ff;}#sk-container-id-16 input.sk-toggleable__control:checked~div.sk-toggleable__content {max-height: 200px;max-width: 100%;overflow: auto;}#sk-container-id-16 input.sk-toggleable__control:checked~label.sk-toggleable__label-arrow:before {content: \"▾\";}#sk-container-id-16 div.sk-estimator input.sk-toggleable__control:checked~label.sk-toggleable__label {background-color: #d4ebff;}#sk-container-id-16 div.sk-label input.sk-toggleable__control:checked~label.sk-toggleable__label {background-color: #d4ebff;}#sk-container-id-16 input.sk-hidden--visually {border: 0;clip: rect(1px 1px 1px 1px);clip: rect(1px, 1px, 1px, 1px);height: 1px;margin: -1px;overflow: hidden;padding: 0;position: absolute;width: 1px;}#sk-container-id-16 div.sk-estimator {font-family: monospace;background-color: #f0f8ff;border: 1px dotted black;border-radius: 0.25em;box-sizing: border-box;margin-bottom: 0.5em;}#sk-container-id-16 div.sk-estimator:hover {background-color: #d4ebff;}#sk-container-id-16 div.sk-parallel-item::after {content: \"\";width: 100%;border-bottom: 1px solid gray;flex-grow: 1;}#sk-container-id-16 div.sk-label:hover label.sk-toggleable__label {background-color: #d4ebff;}#sk-container-id-16 div.sk-serial::before {content: \"\";position: absolute;border-left: 1px solid gray;box-sizing: border-box;top: 0;bottom: 0;left: 50%;z-index: 0;}#sk-container-id-16 div.sk-serial {display: flex;flex-direction: column;align-items: center;background-color: white;padding-right: 0.2em;padding-left: 0.2em;position: relative;}#sk-container-id-16 div.sk-item {position: relative;z-index: 1;}#sk-container-id-16 div.sk-parallel {display: flex;align-items: stretch;justify-content: center;background-color: white;position: relative;}#sk-container-id-16 div.sk-item::before, #sk-container-id-16 div.sk-parallel-item::before {content: \"\";position: absolute;border-left: 1px solid gray;box-sizing: border-box;top: 0;bottom: 0;left: 50%;z-index: -1;}#sk-container-id-16 div.sk-parallel-item {display: flex;flex-direction: column;z-index: 1;position: relative;background-color: white;}#sk-container-id-16 div.sk-parallel-item:first-child::after {align-self: flex-end;width: 50%;}#sk-container-id-16 div.sk-parallel-item:last-child::after {align-self: flex-start;width: 50%;}#sk-container-id-16 div.sk-parallel-item:only-child::after {width: 0;}#sk-container-id-16 div.sk-dashed-wrapped {border: 1px dashed gray;margin: 0 0.4em 0.5em 0.4em;box-sizing: border-box;padding-bottom: 0.4em;background-color: white;}#sk-container-id-16 div.sk-label label {font-family: monospace;font-weight: bold;display: inline-block;line-height: 1.2em;}#sk-container-id-16 div.sk-label-container {text-align: center;}#sk-container-id-16 div.sk-container {/* jupyter's `normalize.less` sets `[hidden] { display: none; }` but bootstrap.min.css set `[hidden] { display: none !important; }` so we also need the `!important` here to be able to override the default hidden behavior on the sphinx rendered scikit-learn.org. See: https://github.com/scikit-learn/scikit-learn/issues/21755 */display: inline-block !important;position: relative;}#sk-container-id-16 div.sk-text-repr-fallback {display: none;}</style><div id=\"sk-container-id-16\" class=\"sk-top-container\"><div class=\"sk-text-repr-fallback\"><pre>LinearRegression(n_jobs=-1)</pre><b>In a Jupyter environment, please rerun this cell to show the HTML representation or trust the notebook. <br />On GitHub, the HTML representation is unable to render, please try loading this page with nbviewer.org.</b></div><div class=\"sk-container\" hidden><div class=\"sk-item\"><div class=\"sk-estimator sk-toggleable\"><input class=\"sk-toggleable__control sk-hidden--visually\" id=\"sk-estimator-id-16\" type=\"checkbox\" checked><label for=\"sk-estimator-id-16\" class=\"sk-toggleable__label sk-toggleable__label-arrow\">LinearRegression</label><div class=\"sk-toggleable__content\"><pre>LinearRegression(n_jobs=-1)</pre></div></div></div></div></div>"
      ],
      "text/plain": [
       "LinearRegression(n_jobs=-1)"
      ]
     },
     "execution_count": 373,
     "metadata": {},
     "output_type": "execute_result"
    }
   ],
   "source": [
    "# Import the LinearRegression module from SKLearn\n",
    "from sklearn.linear_model import LinearRegression\n",
    "\n",
    "# Instantiate the Linear Regression model\n",
    "# Assign a random_state parameter of 1 to the model (not necessary, but for reproducibility)\n",
    "lin_reg = LinearRegression(n_jobs=-1)  # n_jobs=-1 uses all available CPU cores\n",
    "\n",
    "# Fit the model using training data\n",
    "lin_reg.fit(X_train, y_train)"
   ]
  },
  {
   "cell_type": "code",
   "execution_count": 375,
   "id": "e68901ef-e71e-43b2-906c-b1f659656db7",
   "metadata": {
    "tags": []
   },
   "outputs": [],
   "source": [
    "# Make a prediction using the testing data\n",
    "y_predict = lin_reg.predict(X_test)"
   ]
  },
  {
   "cell_type": "code",
   "execution_count": 377,
   "id": "614a49a4-387e-4edd-823c-fa93850bc135",
   "metadata": {},
   "outputs": [],
   "source": [
    "###### features = ['duration_ms', 'popularity', 'energy', 'loudness', 'speechiness', 'acousticness', 'instrumentalness', 'liveness', 'valence', 'tempo', 'explicit']"
   ]
  },
  {
   "cell_type": "code",
   "execution_count": 379,
   "id": "1e99527a-6b05-42b7-b42d-eeaf0734ca27",
   "metadata": {
    "tags": []
   },
   "outputs": [
    {
     "name": "stdout",
     "output_type": "stream",
     "text": [
      "The r2 is 0.28819494978467475.\n",
      "The mean squared error is 0.02223348962352467.\n",
      "The root mean squared error is 0.14910898572361314.\n",
      "The standard deviation is 0.1725237663884735.\n"
     ]
    }
   ],
   "source": [
    "# Compute metrics for the linear regression model:  r2, mse, rmse, std\n",
    "from sklearn.metrics import mean_squared_error, mean_absolute_error, r2_score\n",
    "r2 = r2_score(y_test, y_predict)\n",
    "mse = mean_squared_error(y_test, y_predict)\n",
    "rmse = np.sqrt(mse)\n",
    "std = np.std(y)\n",
    "\n",
    "# Print relevant metrics.\n",
    "print(f\"The r2 is {r2}.\")\n",
    "print(f\"The mean squared error is {mse}.\")\n",
    "print(f\"The root mean squared error is {rmse}.\")\n",
    "print(f\"The standard deviation is {std}.\")\n"
   ]
  },
  {
   "cell_type": "markdown",
   "id": "9a727e34-d9cb-4204-96b1-0864b8980850",
   "metadata": {
    "tags": []
   },
   "source": [
    "Logistic Regression Model\n"
   ]
  },
  {
   "cell_type": "code",
   "execution_count": 382,
   "id": "92c843f9-732b-47c9-a5c5-90d8e1c20e42",
   "metadata": {
    "tags": []
   },
   "outputs": [
    {
     "name": "stdout",
     "output_type": "stream",
     "text": [
      "Accuracy: 0.7381671701913394\n"
     ]
    }
   ],
   "source": [
    "# Import the LogisticRegression module from SKLearn\n",
    "# Create a logistic regression model\n",
    "from sklearn.linear_model import LogisticRegression\n",
    "# Split the data into training and testing sets\n",
    "X_train, X_test, y_train, y_test = train_test_split(X_scaled, df_cleaned['danceability_binary'], test_size=0.2, random_state=42)\n",
    "\n",
    "# Create a logistic regression model\n",
    "log_reg = LogisticRegression()\n",
    "\n",
    "# Train the model\n",
    "log_reg.fit(X_train, y_train)\n",
    "\n",
    "# Make predictions on the test set\n",
    "y_pred = log_reg.predict(X_test)\n",
    "\n",
    "# Evaluate the model\n",
    "accuracy = log_reg.score(X_test, y_test)\n",
    "print(\"Accuracy:\", accuracy)\n"
   ]
  },
  {
   "cell_type": "markdown",
   "id": "52c65c6b-1962-4fa4-887f-40d23324efcd",
   "metadata": {},
   "source": [
    "Random Forest Model"
   ]
  },
  {
   "cell_type": "code",
   "execution_count": 385,
   "id": "e371a739-3f14-46e0-b905-16baa4b5f132",
   "metadata": {
    "tags": []
   },
   "outputs": [
    {
     "name": "stdout",
     "output_type": "stream",
     "text": [
      "Accuracy: 0.7623363544813696\n"
     ]
    }
   ],
   "source": [
    "# Import the RandomForestClassifier module from SKLearn\n",
    "from sklearn.ensemble import RandomForestClassifier\n",
    "\n",
    "# Split the data into training and testing sets\n",
    "X_train, X_test, y_train, y_test = train_test_split(X_scaled, df_cleaned['danceability_binary'], test_size=0.2, random_state=42)\n",
    "\n",
    "# Create a random forest classifier model\n",
    "rf_model = RandomForestClassifier(n_estimators=100, random_state=42)\n",
    "\n",
    "# Train the model\n",
    "rf_model.fit(X_train, y_train)\n",
    "\n",
    "# Make predictions on the test set\n",
    "y_pred = rf_model.predict(X_test)\n",
    "\n",
    "# Evaluate the model\n",
    "accuracy = rf_model.score(X_test, y_test)\n",
    "print(\"Accuracy:\", accuracy)"
   ]
  },
  {
   "cell_type": "code",
   "execution_count": null,
   "id": "1050aed7-93b7-4ed6-8d31-e7b00dc1108d",
   "metadata": {},
   "outputs": [],
   "source": []
  }
 ],
 "metadata": {
  "kernelspec": {
   "display_name": "Python 3 (ipykernel)",
   "language": "python",
   "name": "python3"
  },
  "language_info": {
   "codemirror_mode": {
    "name": "ipython",
    "version": 3
   },
   "file_extension": ".py",
   "mimetype": "text/x-python",
   "name": "python",
   "nbconvert_exporter": "python",
   "pygments_lexer": "ipython3",
   "version": "3.11.7"
  }
 },
 "nbformat": 4,
 "nbformat_minor": 5
}
