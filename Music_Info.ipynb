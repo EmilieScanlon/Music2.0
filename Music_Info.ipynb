{
 "cells": [
  {
   "cell_type": "code",
   "execution_count": 123,
   "id": "225522a4-8d88-497f-8529-0685a47a4c7f",
   "metadata": {
    "tags": []
   },
   "outputs": [],
   "source": [
    "# Import the modules\n",
    "import numpy as np\n",
    "import pandas as pd\n",
    "from pathlib import Path\n",
    "from sklearn.metrics import confusion_matrix, classification_report, accuracy_score"
   ]
  },
  {
   "cell_type": "code",
   "execution_count": 237,
   "id": "2cf5b02c-1c62-4f08-9020-9a1d301a5e87",
   "metadata": {
    "tags": []
   },
   "outputs": [],
   "source": [
    "import pandas as pd\n",
    "from sklearn.preprocessing import StandardScaler\n",
    "\n",
    "# Load the dataset into a DataFrame and select 500 rows at random\n",
    "df = pd.read_csv('dataset.csv').sample(n=500)\n",
    "\n",
    "# Drop irrelevant columns\n",
    "df_cleaned = df.drop(columns=['Unnamed: 0', 'track_id', 'artists', 'album_name', 'track_name', 'mode'])\n",
    "\n",
    "# Handle missing values: drop rows with missing values\n",
    "df_cleaned = df_cleaned.dropna()\n",
    "\n",
    "# Remove duplicates\n",
    "df_cleaned = df_cleaned.drop_duplicates()\n",
    "\n",
    "# Convert 'danceability' to binary labels (0 for not danceable, 1 for danceable)\n",
    "df_cleaned['danceability_binary'] = df_cleaned['danceability'].apply(lambda x: 1 if x > 0.5 else 0)\n",
    "\n",
    "# Select relevant columns\n",
    "######features = ['duration_ms', 'popularity', 'energy', 'loudness', 'speechiness', 'acousticness', 'instrumentalness', 'liveness', 'valence', 'tempo', 'explicit']\n",
    "features = ['energy', 'loudness', 'acousticness', 'valence', 'time_signature']"
   ]
  },
  {
   "cell_type": "code",
   "execution_count": 238,
   "id": "bd82d398-fe3e-49eb-8466-26bf4ac605a8",
   "metadata": {
    "tags": []
   },
   "outputs": [
    {
     "data": {
      "text/html": [
       "<div>\n",
       "<style scoped>\n",
       "    .dataframe tbody tr th:only-of-type {\n",
       "        vertical-align: middle;\n",
       "    }\n",
       "\n",
       "    .dataframe tbody tr th {\n",
       "        vertical-align: top;\n",
       "    }\n",
       "\n",
       "    .dataframe thead th {\n",
       "        text-align: right;\n",
       "    }\n",
       "</style>\n",
       "<table border=\"1\" class=\"dataframe\">\n",
       "  <thead>\n",
       "    <tr style=\"text-align: right;\">\n",
       "      <th></th>\n",
       "      <th>popularity</th>\n",
       "      <th>duration_ms</th>\n",
       "      <th>explicit</th>\n",
       "      <th>danceability</th>\n",
       "      <th>energy</th>\n",
       "      <th>key</th>\n",
       "      <th>loudness</th>\n",
       "      <th>speechiness</th>\n",
       "      <th>acousticness</th>\n",
       "      <th>instrumentalness</th>\n",
       "      <th>liveness</th>\n",
       "      <th>valence</th>\n",
       "      <th>tempo</th>\n",
       "      <th>time_signature</th>\n",
       "      <th>track_genre</th>\n",
       "      <th>danceability_binary</th>\n",
       "    </tr>\n",
       "  </thead>\n",
       "  <tbody>\n",
       "    <tr>\n",
       "      <th>69423</th>\n",
       "      <td>30</td>\n",
       "      <td>84532</td>\n",
       "      <td>False</td>\n",
       "      <td>0.694</td>\n",
       "      <td>0.731</td>\n",
       "      <td>9</td>\n",
       "      <td>-5.604</td>\n",
       "      <td>0.0333</td>\n",
       "      <td>0.05650</td>\n",
       "      <td>0.000001</td>\n",
       "      <td>0.0688</td>\n",
       "      <td>0.867</td>\n",
       "      <td>95.044</td>\n",
       "      <td>4</td>\n",
       "      <td>malay</td>\n",
       "      <td>1</td>\n",
       "    </tr>\n",
       "    <tr>\n",
       "      <th>89462</th>\n",
       "      <td>1</td>\n",
       "      <td>205791</td>\n",
       "      <td>False</td>\n",
       "      <td>0.755</td>\n",
       "      <td>0.767</td>\n",
       "      <td>1</td>\n",
       "      <td>-4.446</td>\n",
       "      <td>0.0535</td>\n",
       "      <td>0.00459</td>\n",
       "      <td>0.000008</td>\n",
       "      <td>0.0618</td>\n",
       "      <td>0.321</td>\n",
       "      <td>93.959</td>\n",
       "      <td>4</td>\n",
       "      <td>reggaeton</td>\n",
       "      <td>1</td>\n",
       "    </tr>\n",
       "    <tr>\n",
       "      <th>60526</th>\n",
       "      <td>22</td>\n",
       "      <td>130000</td>\n",
       "      <td>True</td>\n",
       "      <td>0.458</td>\n",
       "      <td>0.619</td>\n",
       "      <td>4</td>\n",
       "      <td>-7.553</td>\n",
       "      <td>0.3350</td>\n",
       "      <td>0.25700</td>\n",
       "      <td>0.000000</td>\n",
       "      <td>0.2750</td>\n",
       "      <td>0.278</td>\n",
       "      <td>193.092</td>\n",
       "      <td>4</td>\n",
       "      <td>j-dance</td>\n",
       "      <td>0</td>\n",
       "    </tr>\n",
       "    <tr>\n",
       "      <th>14142</th>\n",
       "      <td>0</td>\n",
       "      <td>81035</td>\n",
       "      <td>False</td>\n",
       "      <td>0.751</td>\n",
       "      <td>0.379</td>\n",
       "      <td>2</td>\n",
       "      <td>-3.406</td>\n",
       "      <td>0.1230</td>\n",
       "      <td>0.69800</td>\n",
       "      <td>0.000000</td>\n",
       "      <td>0.0464</td>\n",
       "      <td>0.801</td>\n",
       "      <td>109.521</td>\n",
       "      <td>4</td>\n",
       "      <td>children</td>\n",
       "      <td>1</td>\n",
       "    </tr>\n",
       "    <tr>\n",
       "      <th>61595</th>\n",
       "      <td>20</td>\n",
       "      <td>251146</td>\n",
       "      <td>False</td>\n",
       "      <td>0.608</td>\n",
       "      <td>0.984</td>\n",
       "      <td>7</td>\n",
       "      <td>-1.519</td>\n",
       "      <td>0.1380</td>\n",
       "      <td>0.04020</td>\n",
       "      <td>0.000000</td>\n",
       "      <td>0.3340</td>\n",
       "      <td>0.733</td>\n",
       "      <td>97.488</td>\n",
       "      <td>4</td>\n",
       "      <td>j-idol</td>\n",
       "      <td>1</td>\n",
       "    </tr>\n",
       "  </tbody>\n",
       "</table>\n",
       "</div>"
      ],
      "text/plain": [
       "       popularity  duration_ms  explicit  danceability  energy  key  loudness  \\\n",
       "69423          30        84532     False         0.694   0.731    9    -5.604   \n",
       "89462           1       205791     False         0.755   0.767    1    -4.446   \n",
       "60526          22       130000      True         0.458   0.619    4    -7.553   \n",
       "14142           0        81035     False         0.751   0.379    2    -3.406   \n",
       "61595          20       251146     False         0.608   0.984    7    -1.519   \n",
       "\n",
       "       speechiness  acousticness  instrumentalness  liveness  valence  \\\n",
       "69423       0.0333       0.05650          0.000001    0.0688    0.867   \n",
       "89462       0.0535       0.00459          0.000008    0.0618    0.321   \n",
       "60526       0.3350       0.25700          0.000000    0.2750    0.278   \n",
       "14142       0.1230       0.69800          0.000000    0.0464    0.801   \n",
       "61595       0.1380       0.04020          0.000000    0.3340    0.733   \n",
       "\n",
       "         tempo  time_signature track_genre  danceability_binary  \n",
       "69423   95.044               4       malay                    1  \n",
       "89462   93.959               4   reggaeton                    1  \n",
       "60526  193.092               4     j-dance                    0  \n",
       "14142  109.521               4    children                    1  \n",
       "61595   97.488               4      j-idol                    1  "
      ]
     },
     "execution_count": 238,
     "metadata": {},
     "output_type": "execute_result"
    }
   ],
   "source": [
    "X = df_cleaned[features].copy()\n",
    "y = df_cleaned['danceability']\n",
    "\n",
    "\n",
    "# Normalize and standardize columns\n",
    "scaler = StandardScaler()\n",
    "X_scaled = scaler.fit_transform(X)\n",
    "\n",
    "\n",
    "# Display cleaned DataFrame info\n",
    "df_cleaned.head()\n"
   ]
  },
  {
   "cell_type": "code",
   "execution_count": 241,
   "id": "4f39ca38-959c-4db8-b9b7-a98380f73fc0",
   "metadata": {
    "tags": []
   },
   "outputs": [
    {
     "name": "stdout",
     "output_type": "stream",
     "text": [
      "<class 'pandas.core.frame.DataFrame'>\n",
      "Index: 500 entries, 69423 to 23816\n",
      "Data columns (total 16 columns):\n",
      " #   Column               Non-Null Count  Dtype  \n",
      "---  ------               --------------  -----  \n",
      " 0   popularity           500 non-null    int64  \n",
      " 1   duration_ms          500 non-null    int64  \n",
      " 2   explicit             500 non-null    bool   \n",
      " 3   danceability         500 non-null    float64\n",
      " 4   energy               500 non-null    float64\n",
      " 5   key                  500 non-null    int64  \n",
      " 6   loudness             500 non-null    float64\n",
      " 7   speechiness          500 non-null    float64\n",
      " 8   acousticness         500 non-null    float64\n",
      " 9   instrumentalness     500 non-null    float64\n",
      " 10  liveness             500 non-null    float64\n",
      " 11  valence              500 non-null    float64\n",
      " 12  tempo                500 non-null    float64\n",
      " 13  time_signature       500 non-null    int64  \n",
      " 14  track_genre          500 non-null    object \n",
      " 15  danceability_binary  500 non-null    int64  \n",
      "dtypes: bool(1), float64(9), int64(5), object(1)\n",
      "memory usage: 63.0+ KB\n",
      "None\n"
     ]
    }
   ],
   "source": [
    "print(df_cleaned.info())"
   ]
  },
  {
   "cell_type": "code",
   "execution_count": 243,
   "id": "31af812d-32bd-44f8-a741-5452545c1202",
   "metadata": {
    "tags": []
   },
   "outputs": [
    {
     "name": "stdout",
     "output_type": "stream",
     "text": [
      "       energy  loudness  acousticness  valence  time_signature\n",
      "69423  0.7310    -5.604       0.05650    0.867               4\n",
      "89462  0.7670    -4.446       0.00459    0.321               4\n",
      "60526  0.6190    -7.553       0.25700    0.278               4\n",
      "14142  0.3790    -3.406       0.69800    0.801               4\n",
      "61595  0.9840    -1.519       0.04020    0.733               4\n",
      "23495  0.7510    -6.867       0.01770    0.230               4\n",
      "76003  0.2330   -10.632       0.88400    0.167               3\n",
      "97143  0.5420    -6.378       0.55800    0.178               4\n",
      "45681  0.0317   -23.894       0.91700    0.398               4\n",
      "77085  0.7720    -6.530       0.65900    0.561               4\n",
      "<class 'pandas.core.frame.DataFrame'>\n",
      "Index: 500 entries, 69423 to 23816\n",
      "Data columns (total 5 columns):\n",
      " #   Column          Non-Null Count  Dtype  \n",
      "---  ------          --------------  -----  \n",
      " 0   energy          500 non-null    float64\n",
      " 1   loudness        500 non-null    float64\n",
      " 2   acousticness    500 non-null    float64\n",
      " 3   valence         500 non-null    float64\n",
      " 4   time_signature  500 non-null    int64  \n",
      "dtypes: float64(4), int64(1)\n",
      "memory usage: 23.4 KB\n",
      "None\n",
      "           energy    loudness  acousticness     valence  time_signature\n",
      "count  500.000000  500.000000    500.000000  500.000000      500.000000\n",
      "mean     0.643092   -7.987220      0.314155    0.482057        3.862000\n",
      "std      0.249679    4.666472      0.328598    0.252429        0.497444\n",
      "min      0.000020  -34.832000      0.000001    0.000000        0.000000\n",
      "25%      0.463750   -9.688750      0.016475    0.285000        4.000000\n",
      "50%      0.670000   -6.928500      0.176500    0.477500        4.000000\n",
      "75%      0.853000   -4.815750      0.588750    0.680000        4.000000\n",
      "max      0.999000   -0.810000      0.995000    0.966000        5.000000\n",
      "Index(['energy', 'loudness', 'acousticness', 'valence', 'time_signature'], dtype='object')\n"
     ]
    }
   ],
   "source": [
    "# Review the X variable DataFrame\n",
    "print(X.head(10))\n",
    "print(X.info())\n",
    "print(X.describe())\n",
    "print(X.columns)"
   ]
  },
  {
   "cell_type": "code",
   "execution_count": 245,
   "id": "0c63a82f-35a1-4b89-9a84-93df7a45175f",
   "metadata": {
    "tags": []
   },
   "outputs": [],
   "source": [
    "# Split the data into training and testing datasets by using\n",
    "\n",
    "# Import the train_test_learn module\n",
    "from sklearn.model_selection import train_test_split\n",
    "\n",
    "# Split the data using train_test_split\n",
    "# Assign a random_state of 1 to the function\n",
    "X_train, X_test, y_train, y_test = train_test_split(X_scaled, \n",
    "                                                    y, \n",
    "                                                    random_state=1)"
   ]
  },
  {
   "cell_type": "markdown",
   "id": "1b1bb155-6255-4965-8559-924bca1d3348",
   "metadata": {},
   "source": [
    "Linear Regression"
   ]
  },
  {
   "cell_type": "code",
   "execution_count": 248,
   "id": "85059797-79ba-4020-809b-854dd525e2a2",
   "metadata": {
    "tags": []
   },
   "outputs": [
    {
     "data": {
      "text/html": [
       "<style>#sk-container-id-11 {color: black;background-color: white;}#sk-container-id-11 pre{padding: 0;}#sk-container-id-11 div.sk-toggleable {background-color: white;}#sk-container-id-11 label.sk-toggleable__label {cursor: pointer;display: block;width: 100%;margin-bottom: 0;padding: 0.3em;box-sizing: border-box;text-align: center;}#sk-container-id-11 label.sk-toggleable__label-arrow:before {content: \"▸\";float: left;margin-right: 0.25em;color: #696969;}#sk-container-id-11 label.sk-toggleable__label-arrow:hover:before {color: black;}#sk-container-id-11 div.sk-estimator:hover label.sk-toggleable__label-arrow:before {color: black;}#sk-container-id-11 div.sk-toggleable__content {max-height: 0;max-width: 0;overflow: hidden;text-align: left;background-color: #f0f8ff;}#sk-container-id-11 div.sk-toggleable__content pre {margin: 0.2em;color: black;border-radius: 0.25em;background-color: #f0f8ff;}#sk-container-id-11 input.sk-toggleable__control:checked~div.sk-toggleable__content {max-height: 200px;max-width: 100%;overflow: auto;}#sk-container-id-11 input.sk-toggleable__control:checked~label.sk-toggleable__label-arrow:before {content: \"▾\";}#sk-container-id-11 div.sk-estimator input.sk-toggleable__control:checked~label.sk-toggleable__label {background-color: #d4ebff;}#sk-container-id-11 div.sk-label input.sk-toggleable__control:checked~label.sk-toggleable__label {background-color: #d4ebff;}#sk-container-id-11 input.sk-hidden--visually {border: 0;clip: rect(1px 1px 1px 1px);clip: rect(1px, 1px, 1px, 1px);height: 1px;margin: -1px;overflow: hidden;padding: 0;position: absolute;width: 1px;}#sk-container-id-11 div.sk-estimator {font-family: monospace;background-color: #f0f8ff;border: 1px dotted black;border-radius: 0.25em;box-sizing: border-box;margin-bottom: 0.5em;}#sk-container-id-11 div.sk-estimator:hover {background-color: #d4ebff;}#sk-container-id-11 div.sk-parallel-item::after {content: \"\";width: 100%;border-bottom: 1px solid gray;flex-grow: 1;}#sk-container-id-11 div.sk-label:hover label.sk-toggleable__label {background-color: #d4ebff;}#sk-container-id-11 div.sk-serial::before {content: \"\";position: absolute;border-left: 1px solid gray;box-sizing: border-box;top: 0;bottom: 0;left: 50%;z-index: 0;}#sk-container-id-11 div.sk-serial {display: flex;flex-direction: column;align-items: center;background-color: white;padding-right: 0.2em;padding-left: 0.2em;position: relative;}#sk-container-id-11 div.sk-item {position: relative;z-index: 1;}#sk-container-id-11 div.sk-parallel {display: flex;align-items: stretch;justify-content: center;background-color: white;position: relative;}#sk-container-id-11 div.sk-item::before, #sk-container-id-11 div.sk-parallel-item::before {content: \"\";position: absolute;border-left: 1px solid gray;box-sizing: border-box;top: 0;bottom: 0;left: 50%;z-index: -1;}#sk-container-id-11 div.sk-parallel-item {display: flex;flex-direction: column;z-index: 1;position: relative;background-color: white;}#sk-container-id-11 div.sk-parallel-item:first-child::after {align-self: flex-end;width: 50%;}#sk-container-id-11 div.sk-parallel-item:last-child::after {align-self: flex-start;width: 50%;}#sk-container-id-11 div.sk-parallel-item:only-child::after {width: 0;}#sk-container-id-11 div.sk-dashed-wrapped {border: 1px dashed gray;margin: 0 0.4em 0.5em 0.4em;box-sizing: border-box;padding-bottom: 0.4em;background-color: white;}#sk-container-id-11 div.sk-label label {font-family: monospace;font-weight: bold;display: inline-block;line-height: 1.2em;}#sk-container-id-11 div.sk-label-container {text-align: center;}#sk-container-id-11 div.sk-container {/* jupyter's `normalize.less` sets `[hidden] { display: none; }` but bootstrap.min.css set `[hidden] { display: none !important; }` so we also need the `!important` here to be able to override the default hidden behavior on the sphinx rendered scikit-learn.org. See: https://github.com/scikit-learn/scikit-learn/issues/21755 */display: inline-block !important;position: relative;}#sk-container-id-11 div.sk-text-repr-fallback {display: none;}</style><div id=\"sk-container-id-11\" class=\"sk-top-container\"><div class=\"sk-text-repr-fallback\"><pre>LinearRegression(n_jobs=-1)</pre><b>In a Jupyter environment, please rerun this cell to show the HTML representation or trust the notebook. <br />On GitHub, the HTML representation is unable to render, please try loading this page with nbviewer.org.</b></div><div class=\"sk-container\" hidden><div class=\"sk-item\"><div class=\"sk-estimator sk-toggleable\"><input class=\"sk-toggleable__control sk-hidden--visually\" id=\"sk-estimator-id-11\" type=\"checkbox\" checked><label for=\"sk-estimator-id-11\" class=\"sk-toggleable__label sk-toggleable__label-arrow\">LinearRegression</label><div class=\"sk-toggleable__content\"><pre>LinearRegression(n_jobs=-1)</pre></div></div></div></div></div>"
      ],
      "text/plain": [
       "LinearRegression(n_jobs=-1)"
      ]
     },
     "execution_count": 248,
     "metadata": {},
     "output_type": "execute_result"
    }
   ],
   "source": [
    "# Import the LinearRegression module from SKLearn\n",
    "from sklearn.linear_model import LinearRegression\n",
    "\n",
    "# Instantiate the Linear Regression model\n",
    "# Assign a random_state parameter of 1 to the model (not necessary, but for reproducibility)\n",
    "lin_reg = LinearRegression(n_jobs=-1)  # n_jobs=-1 uses all available CPU cores\n",
    "\n",
    "# Fit the model using training data\n",
    "lin_reg.fit(X_train, y_train)"
   ]
  },
  {
   "cell_type": "code",
   "execution_count": 250,
   "id": "e68901ef-e71e-43b2-906c-b1f659656db7",
   "metadata": {
    "tags": []
   },
   "outputs": [],
   "source": [
    "# Make a prediction using the testing data\n",
    "y_predict = lin_reg.predict(X_test)"
   ]
  },
  {
   "cell_type": "code",
   "execution_count": 252,
   "id": "614a49a4-387e-4edd-823c-fa93850bc135",
   "metadata": {},
   "outputs": [],
   "source": [
    "###### features = ['duration_ms', 'popularity', 'energy', 'loudness', 'speechiness', 'acousticness', 'instrumentalness', 'liveness', 'valence', 'tempo', 'explicit']"
   ]
  },
  {
   "cell_type": "code",
   "execution_count": 254,
   "id": "1e99527a-6b05-42b7-b42d-eeaf0734ca27",
   "metadata": {
    "tags": []
   },
   "outputs": [
    {
     "name": "stdout",
     "output_type": "stream",
     "text": [
      "The r2 is 0.26609858646985385.\n",
      "The mean squared error is 0.021220190991999847.\n",
      "The root mean squared error is 0.14567151743563272.\n",
      "The standard deviation is 0.16005636405354207.\n"
     ]
    }
   ],
   "source": [
    "# Compute metrics for the linear regression model:  r2, mse, rmse, std\n",
    "from sklearn.metrics import mean_squared_error, mean_absolute_error, r2_score\n",
    "r2 = r2_score(y_test, y_predict)\n",
    "mse = mean_squared_error(y_test, y_predict)\n",
    "rmse = np.sqrt(mse)\n",
    "std = np.std(y)\n",
    "\n",
    "# Print relevant metrics.\n",
    "print(f\"The r2 is {r2}.\")\n",
    "print(f\"The mean squared error is {mse}.\")\n",
    "print(f\"The root mean squared error is {rmse}.\")\n",
    "print(f\"The standard deviation is {std}.\")\n"
   ]
  },
  {
   "cell_type": "markdown",
   "id": "9a727e34-d9cb-4204-96b1-0864b8980850",
   "metadata": {
    "tags": []
   },
   "source": [
    "Logistic Regression Model\n"
   ]
  },
  {
   "cell_type": "code",
   "execution_count": 257,
   "id": "92c843f9-732b-47c9-a5c5-90d8e1c20e42",
   "metadata": {
    "tags": []
   },
   "outputs": [
    {
     "name": "stdout",
     "output_type": "stream",
     "text": [
      "Accuracy: 0.66\n"
     ]
    }
   ],
   "source": [
    "# Import the LogisticRegression module from SKLearn\n",
    "# Create a logistic regression model\n",
    "from sklearn.linear_model import LogisticRegression\n",
    "# Split the data into training and testing sets\n",
    "X_train, X_test, y_train, y_test = train_test_split(X_scaled, df_cleaned['danceability_binary'], test_size=0.2, random_state=42)\n",
    "\n",
    "# Create a logistic regression model\n",
    "log_reg = LogisticRegression()\n",
    "\n",
    "# Train the model\n",
    "log_reg.fit(X_train, y_train)\n",
    "\n",
    "# Make predictions on the test set\n",
    "y_pred = log_reg.predict(X_test)\n",
    "\n",
    "# Evaluate the model\n",
    "accuracy = log_reg.score(X_test, y_test)\n",
    "print(\"Accuracy:\", accuracy)\n"
   ]
  },
  {
   "cell_type": "markdown",
   "id": "52c65c6b-1962-4fa4-887f-40d23324efcd",
   "metadata": {},
   "source": [
    "Random Forest Model"
   ]
  },
  {
   "cell_type": "code",
   "execution_count": 260,
   "id": "e371a739-3f14-46e0-b905-16baa4b5f132",
   "metadata": {
    "tags": []
   },
   "outputs": [
    {
     "name": "stdout",
     "output_type": "stream",
     "text": [
      "Accuracy: 0.73\n"
     ]
    }
   ],
   "source": [
    "# Import the RandomForestClassifier module from SKLearn\n",
    "from sklearn.ensemble import RandomForestClassifier\n",
    "\n",
    "# Split the data into training and testing sets\n",
    "X_train, X_test, y_train, y_test = train_test_split(X_scaled, df_cleaned['danceability_binary'], test_size=0.2, random_state=42)\n",
    "\n",
    "# Create a random forest classifier model\n",
    "rf_model = RandomForestClassifier(n_estimators=100, random_state=42)\n",
    "\n",
    "# Train the model\n",
    "rf_model.fit(X_train, y_train)\n",
    "\n",
    "# Make predictions on the test set\n",
    "y_pred = rf_model.predict(X_test)\n",
    "\n",
    "# Evaluate the model\n",
    "accuracy = rf_model.score(X_test, y_test)\n",
    "print(\"Accuracy:\", accuracy)"
   ]
  },
  {
   "cell_type": "code",
   "execution_count": null,
   "id": "1050aed7-93b7-4ed6-8d31-e7b00dc1108d",
   "metadata": {},
   "outputs": [],
   "source": []
  }
 ],
 "metadata": {
  "kernelspec": {
   "display_name": "Python 3 (ipykernel)",
   "language": "python",
   "name": "python3"
  },
  "language_info": {
   "codemirror_mode": {
    "name": "ipython",
    "version": 3
   },
   "file_extension": ".py",
   "mimetype": "text/x-python",
   "name": "python",
   "nbconvert_exporter": "python",
   "pygments_lexer": "ipython3",
   "version": "3.11.7"
  }
 },
 "nbformat": 4,
 "nbformat_minor": 5
}
